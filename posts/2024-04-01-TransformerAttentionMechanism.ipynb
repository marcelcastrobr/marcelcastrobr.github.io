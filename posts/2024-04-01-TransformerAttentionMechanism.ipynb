{
 "cells": [
  {
   "cell_type": "markdown",
   "id": "3ed92a7e-adf6-4fb3-98c7-171d52178bd5",
   "metadata": {},
   "source": [
    "---\n",
    "aliases:\n",
    "- /2024/04/01/TransformerAttentionMechanism\n",
    "badges: true\n",
    "categories:\n",
    "- NLP\n",
    "- transfomers\n",
    "- PyTorch\n",
    "date: '2024-04-01'\n",
    "description: Simple implementation of self-attention using PyTorch.\n",
    "title: How Attention Mechanism works in Transformers\n",
    "toc: true\n",
    "\n",
    "---"
   ]
  },
  {
   "cell_type": "markdown",
   "id": "dea2e63b-a77d-4aa3-9c9a-a71c99bf57c8",
   "metadata": {},
   "source": [
    "# How Attention Mechanism works in Transformers\n",
    "\n",
    "The attention mechanism is an operator that was introduced as part of the Transformer architecture by the paper entitled [\"Attention is All You Need\"](https://arxiv.org/abs/1706.03762).\n",
    "\n",
    "As highligthed by [Attention Mechanisms and Transformers](https://d2l.ai/chapter_attention-mechanisms-and-transformers/index.html), the intuition behind attention is that rather than compressing the input, it might be better for the decoder to revisit the input sequence at every step. \n",
    "\n",
    "Moreover, rather than always seeing the same representation of the input, one might imagine that the decoder should selectively focus on particular parts of the input sequence at particular decoding steps. \n",
    "\n",
    "The high-level idea is that the encoder could produce a representation of length equal to the original input sequence. Then, at decoding time, the decoder can (via some control mechanism) receive as input a context vector consisting of a weighted sum of the representations on the input at each time step. Intuitively, the weights determine the extent to which each step’s context “focuses” on each input token, and the key is to make this process for assigning the weights differentiable so that it can be learned along with all of the other neural network parameters.\n",
    "\n",
    "This notebook was created to better understand the attention mechanism in Transformers using PyTorch. The code examples here are inspired by [Let's build GPT: from scratch, in code, spelled out by Andrej Karpathy](https://www.youtube.com/watch?v=kCc8FmEb1nY).\n",
    "\n"
   ]
  },
  {
   "cell_type": "markdown",
   "id": "b4a7ecc2-8fca-4e70-8be1-b20dc36a0f08",
   "metadata": {},
   "source": [
    "## Pre-requisites\n",
    "\n",
    "- Python knowledge\n",
    "- PyTorch\n"
   ]
  },
  {
   "cell_type": "markdown",
   "id": "668795f5-1743-44df-8a25-a62393790332",
   "metadata": {},
   "source": [
    "## Attention Mechanism as a Scaled Dot Product Attention\n",
    "\n",
    "![image-attention](./images/sdpa2.png)\n",
    "\n",
    "The main components of the attention mechanism by Transfomers are:\n",
    "- q: query vector\n",
    "- k: key vector\n",
    "- v: values vector\n",
    "\n"
   ]
  },
  {
   "cell_type": "markdown",
   "id": "512fd811-a285-4af1-a06e-860df0d6059b",
   "metadata": {},
   "source": [
    "### Self-attention using PyTorch\n"
   ]
  },
  {
   "cell_type": "code",
   "execution_count": 41,
   "id": "312c1828-c7d7-4839-ac37-e15e562283eb",
   "metadata": {},
   "outputs": [
    {
     "name": "stdout",
     "output_type": "stream",
     "text": [
      "a=\n",
      "tensor([[1.0000, 0.0000, 0.0000],\n",
      "        [0.5000, 0.5000, 0.0000],\n",
      "        [0.3333, 0.3333, 0.3333]])\n",
      "--\n",
      "b=\n",
      "tensor([[2., 7.],\n",
      "        [6., 4.],\n",
      "        [6., 5.]])\n",
      "--\n",
      "c=\n",
      "tensor([[2.0000, 7.0000],\n",
      "        [4.0000, 5.5000],\n",
      "        [4.6667, 5.3333]])\n"
     ]
    }
   ],
   "source": [
    "# Mathematical trick of self-attention\n",
    "\n",
    "import torch\n",
    "import torch.nn as nn\n",
    "from torch.nn import functional as F\n",
    "\n",
    "# toy example illustrating how matrix multiplication can be used for a \"weighted aggregation\"\n",
    "torch.manual_seed(42)\n",
    "a = torch.tril(torch.ones(3, 3))\n",
    "a = a / torch.sum(a, 1, keepdim=True)\n",
    "b = torch.randint(0,10,(3,2)).float()\n",
    "c = a @ b\n",
    "print('a=')\n",
    "print(a)\n",
    "print('--')\n",
    "print('b=')\n",
    "print(b)\n",
    "print('--')\n",
    "print('c=')\n",
    "print(c)\n"
   ]
  },
  {
   "cell_type": "code",
   "execution_count": 16,
   "id": "ef225505-26f9-49a9-ac01-751fc0723927",
   "metadata": {},
   "outputs": [
    {
     "data": {
      "text/plain": [
       "torch.Size([4, 8, 2])"
      ]
     },
     "execution_count": 16,
     "metadata": {},
     "output_type": "execute_result"
    }
   ],
   "source": [
    "# consider the following toy example:\n",
    "\n",
    "torch.manual_seed(1337)\n",
    "B,T,C = 4,8,2 # batch, time, channels -> 8 tokens in a batch with 2 dimension each.\n",
    "x = torch.randn(B,T,C)\n",
    "x.shape"
   ]
  },
  {
   "cell_type": "markdown",
   "id": "a9b6bb3d-b71c-4848-b357-a6578523657e",
   "metadata": {},
   "source": [
    "In this example we assume auto regressive model (decoder only transformers). That means each token t only consider the previous tokens t-1, t-2, etc. Example: Token in the 5th location should only talk to tolken in the 4th, 3rd, 2nd and 1st location.\n",
    "\n",
    "The code below is using bag-of-words (bow) to implement the auto regressive - considering average of previous tokens using torch.mean.\n"
   ]
  },
  {
   "cell_type": "code",
   "execution_count": 12,
   "id": "fbdf4a9a-2fa4-40a1-b11e-5a450ce6fbf1",
   "metadata": {},
   "outputs": [
    {
     "data": {
      "text/plain": [
       "tensor([[ 0.1808, -0.0700],\n",
       "        [-0.3596, -0.9152],\n",
       "        [ 0.6258,  0.0255],\n",
       "        [ 0.9545,  0.0643],\n",
       "        [ 0.3612,  1.1679],\n",
       "        [-1.3499, -0.5102],\n",
       "        [ 0.2360, -0.2398],\n",
       "        [-0.9211,  1.5433]])"
      ]
     },
     "execution_count": 12,
     "metadata": {},
     "output_type": "execute_result"
    }
   ],
   "source": [
    "# We want x[b,t] = mean_{i<=t} x[b,i]\n",
    "xbow = torch.zeros((B,T,C))\n",
    "for b in range(B):\n",
    "    for t in range(T):\n",
    "        xprev = x[b,:t+1] # (t,C)\n",
    "        xbow[b,t] = torch.mean(xprev, 0)\n",
    "\n",
    "x[0]"
   ]
  },
  {
   "cell_type": "code",
   "execution_count": 59,
   "id": "e3acab40-d881-4be5-820f-b9ae43572b25",
   "metadata": {},
   "outputs": [
    {
     "data": {
      "text/plain": [
       "tensor([[ 0.1808, -0.0700],\n",
       "        [-0.0894, -0.4926],\n",
       "        [ 0.1490, -0.3199],\n",
       "        [ 0.3504, -0.2238],\n",
       "        [ 0.3525,  0.0545],\n",
       "        [ 0.0688, -0.0396],\n",
       "        [ 0.0927, -0.0682],\n",
       "        [-0.0341,  0.1332]])"
      ]
     },
     "execution_count": 59,
     "metadata": {},
     "output_type": "execute_result"
    }
   ],
   "source": [
    "# Now xbow represents the tokens averaged by previous tokens.\n",
    "xbow[0] \n",
    "# Example: token -0.0894, -0.4926 is an average of [[ 0.1808, -0.0700],[-0.3596, -0.9152]]"
   ]
  },
  {
   "cell_type": "markdown",
   "id": "d2a4cc3c-ffad-4454-a0ec-5299d921a922",
   "metadata": {},
   "source": [
    "Using matrix multiplation is a more efficient method compared to the for-loops."
   ]
  },
  {
   "cell_type": "code",
   "execution_count": 60,
   "id": "88a3fe30-af5b-496d-b039-abf33405638e",
   "metadata": {},
   "outputs": [
    {
     "name": "stdout",
     "output_type": "stream",
     "text": [
      "a=\n",
      "tensor([[1., 1., 1.],\n",
      "        [1., 1., 1.],\n",
      "        [1., 1., 1.]])\n",
      "b=\n",
      "tensor([[2., 7.],\n",
      "        [6., 4.],\n",
      "        [6., 5.]])\n",
      "c=\n",
      "tensor([[14., 16.],\n",
      "        [14., 16.],\n",
      "        [14., 16.]])\n",
      "c-shape=\n",
      "torch.Size([3, 2])\n"
     ]
    }
   ],
   "source": [
    "# Let´s take the example of A (3x3) x B(3x2) = C(3x2)\n",
    "\n",
    "torch.manual_seed(42)\n",
    "a = torch.ones(3,3)\n",
    "b = torch.randint(0,10,(3,2)).float()\n",
    "c = a @ b # Matrix multiplication in pytorch\n",
    "print('a=')\n",
    "print(a)\n",
    "print('b=')\n",
    "print(b)\n",
    "print('c=')\n",
    "print(c)\n",
    "print('c-shape=')\n",
    "print(c.shape)"
   ]
  },
  {
   "cell_type": "code",
   "execution_count": 57,
   "id": "17834732-2b26-490c-a21f-7c9690e3e383",
   "metadata": {},
   "outputs": [
    {
     "name": "stdout",
     "output_type": "stream",
     "text": [
      "a=\n",
      "tensor([[1.0000, 0.0000, 0.0000],\n",
      "        [0.5000, 0.5000, 0.0000],\n",
      "        [0.3333, 0.3333, 0.3333]])\n",
      "b=\n",
      "tensor([[2., 7.],\n",
      "        [6., 4.],\n",
      "        [6., 5.]])\n",
      "c=\n",
      "tensor([[2.0000, 7.0000],\n",
      "        [4.0000, 5.5000],\n",
      "        [4.6667, 5.3333]])\n",
      "c-shape=\n",
      "torch.Size([3, 2])\n"
     ]
    }
   ],
   "source": [
    "# Using torch.tril -> lower tringular part of a matrix (i.e. my diagonal matrix in calculus :-) )\n",
    "torch.manual_seed(42)\n",
    "a = torch.tril(torch.ones(3,3))\n",
    "a = a / torch.sum(a, 1, keepdim=True) # weighted aggregation\n",
    "b = torch.randint(0,10,(3,2)).float()\n",
    "c = a @ b # Matrix multiplication in pytorch\n",
    "print('a=')\n",
    "print(a)\n",
    "print('b=')\n",
    "print(b)\n",
    "print('c=')\n",
    "print(c)\n",
    "print('c-shape=')\n",
    "print(c.shape)"
   ]
  },
  {
   "cell_type": "markdown",
   "id": "402cf6d3-ae82-45cd-862b-5b22a879efd1",
   "metadata": {},
   "source": [
    "#### Now lets use torch.tril with matrix multiplacation for weight aggregation \n",
    "\n",
    "xbow2 is the matrix multiplation of weight aggregation using weighted sums."
   ]
  },
  {
   "cell_type": "code",
   "execution_count": 37,
   "id": "b372abe1-6767-4cc9-a1e3-16e1075a3b6f",
   "metadata": {},
   "outputs": [
    {
     "name": "stdout",
     "output_type": "stream",
     "text": [
      "wei.shape:\n",
      "torch.Size([8, 8])\n",
      "x.shape:\n",
      "torch.Size([4, 8, 2])\n",
      "xbow2.shape:\n",
      "torch.Size([4, 8, 2])\n"
     ]
    }
   ],
   "source": [
    "# version 2: using matrix multiply for a weighted aggregation\n",
    "wei = torch.tril(torch.ones(T, T)) # wei == weights\n",
    "wei = wei / wei.sum(1, keepdim=True)\n",
    "xbow2 = wei @ x # (B, T, T) @ (B, T, C) ----> (B, T, C)\n",
    "\n",
    "torch.allclose(xbow, xbow2)\n",
    "print('wei.shape:')\n",
    "print(wei.shape)\n",
    "print('x.shape:')\n",
    "print(x.shape)\n",
    "print('xbow2.shape:')\n",
    "print(xbow2.shape)"
   ]
  },
  {
   "cell_type": "markdown",
   "id": "e765a601-1bef-46e3-a4ca-9e811807744a",
   "metadata": {},
   "source": [
    "### Using softmax now\n",
    "\n",
    "For lower triangle matix (a.k.a diagnoal matrix) we use torch.marked_fill to change 0 values to -inf.\n",
    "Using softmax (i.e. normalization), allows us to obtain the same wei (weight) matrix as before, BUT it allows to wei to represent the affinities between tokens.\n"
   ]
  },
  {
   "cell_type": "code",
   "execution_count": 42,
   "id": "a1f71b2e-64ef-40b5-aa09-a43ad2e0700f",
   "metadata": {},
   "outputs": [
    {
     "data": {
      "text/plain": [
       "True"
      ]
     },
     "execution_count": 42,
     "metadata": {},
     "output_type": "execute_result"
    }
   ],
   "source": [
    "# version 3: use Softmax\n",
    "tril = torch.tril(torch.ones(T, T))\n",
    "wei = torch.zeros((T,T))\n",
    "wei = wei.masked_fill(tril == 0, float('-inf')) # future can not communicate with past. :-) \n",
    "wei = F.softmax(wei, dim=-1)\n",
    "xbow3 = wei @ x\n",
    "torch.allclose(xbow, xbow3)\n"
   ]
  },
  {
   "cell_type": "markdown",
   "id": "965c4170-ba11-42bb-ada4-a6bfee6c6c22",
   "metadata": {},
   "source": [
    "## Single-Head Self-attention to the rescue\n",
    "\n",
    "C (channel) is the number of embedding dimension (C = 32). In current LLMs this is in the order of >1500 dimensions.\n",
    "\n",
    "In the example below we see a single head self attention.\n",
    "\n",
    "**Simple and nice explanation of Q, K and V by Andrej:**\n",
    "\n",
    "Every single token has 2 vectors: query and key.\n",
    "\n",
    "Query (Q) vector represents \"what I am lookig for\".\n",
    "\n",
    "Key (K) vector represents \"What do I contain\".\n",
    "\n",
    "Thus afinity between tokens is the .dot product between query and key and becomes wei (weights).\n",
    "\n",
    "Here head_size is a hyperparameter.\n"
   ]
  },
  {
   "cell_type": "markdown",
   "id": "016ed652-e577-4446-af3e-efd1ffadc52e",
   "metadata": {},
   "source": [
    "Scaled Dot Product Attention (SDPA) is a component of the multi head attention and it is defines as\n",
    "![softmax](./images/softmax.png)\n",
    "\n",
    "where Q,K,V stand for queries, keys and values, and d is the dimension (head_size hyperparameter below) of the queries/keys.\n",
    "\n",
    "Below is the SDPA implementation by Andrej Karpathy.\n"
   ]
  },
  {
   "cell_type": "code",
   "execution_count": 56,
   "id": "b783a191-f717-446b-9b11-8fcbc5af8542",
   "metadata": {},
   "outputs": [
    {
     "data": {
      "text/plain": [
       "torch.Size([4, 8, 16])"
      ]
     },
     "execution_count": 56,
     "metadata": {},
     "output_type": "execute_result"
    }
   ],
   "source": [
    "# version 4: self-attention!\n",
    "torch.manual_seed(1337)\n",
    "B,T,C = 4,8,32 # batch, time, channels\n",
    "x = torch.randn(B,T,C)\n",
    "\n",
    "# let's see a single Head perform self-attention\n",
    "head_size = 16\n",
    "key = nn.Linear(C, head_size, bias=False)\n",
    "query = nn.Linear(C, head_size, bias=False) # applies matrix multiply.\n",
    "value = nn.Linear(C, head_size, bias=False) # applies matrix multiply.\n",
    "k = key(x)   # (B, T, 16)\n",
    "q = query(x) # (B, T, 16)\n",
    "wei =  q @ k.transpose(-2, -1) # (B, T, 16) @ (B, 16, T) ---> (B, T, T) transpose only last two dimensions.\n",
    "\n",
    "# Now wei (weights) contains the relationship between tokens.\n",
    "tril = torch.tril(torch.ones(T, T))\n",
    "#wei = torch.zeros((T,T))\n",
    "wei = wei.masked_fill(tril == 0, float('-inf'))\n",
    "wei = F.softmax(wei, dim=-1)  # exponentiate and normalize\n",
    "\n",
    "v = value(x) # v aggregate info for the single head.\n",
    "out = wei @ v\n",
    "#out = wei @ x\n",
    "\n",
    "out.shape"
   ]
  },
  {
   "cell_type": "markdown",
   "id": "075a86fa-b223-40b0-8419-030e1298159c",
   "metadata": {},
   "source": [
    "Figure below shows the SDPA operations performed in the code above. This figures comes from the blog [Understanding Multi-Head Attention for ML Framework Developers](https://dev-discuss.pytorch.org/t/understanding-multi-head-attention-for-ml-framework-developers/1792/1)\n",
    "\n",
    "![sdpa](./images/sdpa.png)\n",
    "\n",
    "\n",
    "Refer to Section [Soft Database Lookup Interpretation](https://dev-discuss.pytorch.org/t/understanding-multi-head-attention-for-ml-framework-developers/1792/1) for a detailed explanation of the Q,K lookup process.\n",
    "\n"
   ]
  },
  {
   "cell_type": "code",
   "execution_count": 50,
   "id": "fb27524f-28ac-42d7-81af-f385ffa23365",
   "metadata": {},
   "outputs": [
    {
     "data": {
      "text/plain": [
       "torch.Size([4, 8, 32])"
      ]
     },
     "execution_count": 50,
     "metadata": {},
     "output_type": "execute_result"
    }
   ],
   "source": [
    "x.shape"
   ]
  },
  {
   "cell_type": "code",
   "execution_count": 49,
   "id": "a2b50ef7-e609-473b-887a-e6caa0dc9118",
   "metadata": {},
   "outputs": [
    {
     "data": {
      "text/plain": [
       "torch.Size([4, 8, 16])"
      ]
     },
     "execution_count": 49,
     "metadata": {},
     "output_type": "execute_result"
    }
   ],
   "source": [
    "k.shape"
   ]
  },
  {
   "cell_type": "code",
   "execution_count": 51,
   "id": "c77556a3-4997-4106-b254-3c106d673447",
   "metadata": {},
   "outputs": [
    {
     "data": {
      "text/plain": [
       "torch.Size([4, 8, 8])"
      ]
     },
     "execution_count": 51,
     "metadata": {},
     "output_type": "execute_result"
    }
   ],
   "source": [
    "wei.shape"
   ]
  },
  {
   "cell_type": "code",
   "execution_count": 53,
   "id": "4f6119c3-8e91-429e-995b-11f804bf4ffe",
   "metadata": {},
   "outputs": [
    {
     "data": {
      "text/plain": [
       "tensor([[1.0000, 0.0000, 0.0000, 0.0000, 0.0000, 0.0000, 0.0000, 0.0000],\n",
       "        [0.1574, 0.8426, 0.0000, 0.0000, 0.0000, 0.0000, 0.0000, 0.0000],\n",
       "        [0.2088, 0.1646, 0.6266, 0.0000, 0.0000, 0.0000, 0.0000, 0.0000],\n",
       "        [0.5792, 0.1187, 0.1889, 0.1131, 0.0000, 0.0000, 0.0000, 0.0000],\n",
       "        [0.0294, 0.1052, 0.0469, 0.0276, 0.7909, 0.0000, 0.0000, 0.0000],\n",
       "        [0.0176, 0.2689, 0.0215, 0.0089, 0.6812, 0.0019, 0.0000, 0.0000],\n",
       "        [0.1691, 0.4066, 0.0438, 0.0416, 0.1048, 0.2012, 0.0329, 0.0000],\n",
       "        [0.0210, 0.0843, 0.0555, 0.2297, 0.0573, 0.0709, 0.2423, 0.2391]],\n",
       "       grad_fn=<SelectBackward0>)"
      ]
     },
     "execution_count": 53,
     "metadata": {},
     "output_type": "execute_result"
    }
   ],
   "source": [
    "# Now looking at the weight we see for example [0.0210, 0.0843, 0.0555, 0.2297, 0.0573, 0.0709, 0.2423, 0.2391]] representing the 8th token.\n",
    "# You see 8th token with high affinity to the 4th token.\n",
    "#Thus .dot product between query and key gives the affinity\n",
    "wei[0]"
   ]
  },
  {
   "cell_type": "markdown",
   "id": "31f20da8-2445-4b6e-9318-4ea0f92d9f9e",
   "metadata": {},
   "source": [
    "## Multi-Head Attention\n",
    "\n",
    "According to authors of the transformer paper, multi-head attention allows the model to jointly attend to information from different representation subspaces at different positions. With a single attention head, averaging inhibits this.\n",
    "\n",
    "Thus multi-head attention linearly projects the queries, keys and values h (number of heads) times with different, learned linear projections to q, k and v dimensions, respectively. \n",
    "\n",
    "\n",
    "![sdpa](./images/mha.png)\n",
    "\n",
    "The mathematical representation of multi-head attention is\n",
    "\n",
    "![sdpa](./images/mha2.png)\n",
    "\n",
    "In PyTorch the implementation of multi-head attention can be found in [torch.nn.MultiHeadAttention](https://github.com/pytorch/pytorch/blob/4f4b931aba66ae438aae8daca1dcbebeabb947e4/torch/nn/modules/activation.py#L906C12-L906C12)."
   ]
  },
  {
   "cell_type": "markdown",
   "id": "fd852b54-fd3b-496b-8503-9840350c6dd9",
   "metadata": {},
   "source": [
    "## Conclusion / Remarks"
   ]
  },
  {
   "cell_type": "markdown",
   "id": "7a5de450-deb4-4701-ae13-869baf67b515",
   "metadata": {},
   "source": [
    "Important remarks from Andrej:\n",
    "\n",
    "- Attention is a **communication mechanism**. Can be seen as nodes in a directed graph looking at each other and aggregating information with a weighted sum from all nodes that point to them, with data-dependent weights.\n",
    "\n",
    "- There is no notion of space. Attention simply acts over a set of vectors. This is why we need to positionally encode tokens.\n",
    "\n",
    "- Each example across batch dimension is of course processed completely independently and never \"talk\" to each other\n",
    "\n",
    "- \"self-attention\" just means that the keys and values are produced from the same source as queries. In \"cross-attention\", the queries still get produced from x, but the keys and values come from some other, external source (e.g. an encoder module)\n",
    "\n",
    "- \"Scaled\" attention additional divides `wei` by 1/sqrt(head_size). This makes it so when input Q,K are unit variance, wei will be unit variance too and Softmax will stay diffuse and not saturate too much. "
   ]
  },
  {
   "cell_type": "markdown",
   "id": "ee1a25e9-a520-4f13-9d4f-b26e79aef81c",
   "metadata": {},
   "source": [
    "## References\n",
    "\n",
    "- [Let's build GPT: from scratch, in code, spelled out by Andrej Karpathy](https://www.youtube.com/watch?v=kCc8FmEb1nY) and [notebook](https://colab.research.google.com/drive/1JMLa53HDuA-i7ZBmqV7ZnA3c_fvtXnx-?usp=sharing)\n",
    "\n",
    "- [Understanding Multi-Head Attention for ML Framework Developers](https://dev-discuss.pytorch.org/t/understanding-multi-head-attention-for-ml-framework-developers/1792/1)\n",
    "\n",
    "- [11. Attention Mechanisms and Transformers](https://d2l.ai/chapter_attention-mechanisms-and-transformers/index.html) by Dive into Deep Learning."
   ]
  }
 ],
 "metadata": {
  "kernelspec": {
   "display_name": "Python 3 (ipykernel)",
   "language": "python",
   "name": "python3"
  },
  "language_info": {
   "codemirror_mode": {
    "name": "ipython",
    "version": 3
   },
   "file_extension": ".py",
   "mimetype": "text/x-python",
   "name": "python",
   "nbconvert_exporter": "python",
   "pygments_lexer": "ipython3",
   "version": "3.10.14"
  }
 },
 "nbformat": 4,
 "nbformat_minor": 5
}
