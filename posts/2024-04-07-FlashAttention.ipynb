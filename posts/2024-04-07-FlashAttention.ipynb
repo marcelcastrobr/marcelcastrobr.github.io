{
 "cells": [
  {
   "cell_type": "markdown",
   "id": "3ed92a7e-adf6-4fb3-98c7-171d52178bd5",
   "metadata": {},
   "source": [
    "---\n",
    "aliases:\n",
    "- /2024/04/07/FlashAttention\n",
    "date: '2024-04-07'\n",
    "output-file: 2024-04-07-flashattention.html\n",
    "title: Flash Attention - Fast and Memory Efficient Attention Mechanism\n",
    "\n",
    "---"
   ]
  },
  {
   "cell_type": "markdown",
   "id": "dea2e63b-a77d-4aa3-9c9a-a71c99bf57c8",
   "metadata": {},
   "source": [
    "# FlashAttention - Fast and Memory Efficient Attention Mechanism\n",
    "\n",
    "The attention layer is the main bottleneck in scaling longer sequences in LLM (Large Language Models), as its runtime and memory increase quadratically in the sequence length [ref. [FlashAttention-2](https://arxiv.org/abs/2307.08691)].\n",
    "\n",
    "\n",
    "For each attention head, to reduce memory reads/writes, **FlashAttention** uses classical tiling techniques to load blocks of query, key, and value from GPU HBM (its main memory) to SRAM (its fast cache), compute attention with respect to that block, and write back the output to HBM. This reduction in memory reads/writes brings significant speedup (2-4x) in most cases. [ref. https://www.adept.ai/blog/flashier-attention]\n",
    "\n",
    "The figure below is from [FlashAttention paper](https://arxiv.org/pdf/2205.14135) showing on the left that FlashAttention uses tiling to prevent materialization of the large 𝑁 × 𝑁 attention matrix (dotted box) on (relatively) slow GPU HBM. \n",
    "\n",
    "Here in the outer loop (red arrows), FlashAttention loops through blocks of the K and V matrices and loads them to fast on-chip SRAM. In each block, FlashAttention loops over blocks of Q matrix (blue arrows), loading them to SRAM, and writing the output of the attention computation back to HBM. \n",
    "\n",
    "On the right you see the speedup over the PyTorch implementation of attention on GPT-2. FlashAttention does not read and write the large 𝑁 × 𝑁 attention matrix to HBM, resulting in an 7.6× speedup on the attention computation according to the paper.\n",
    "\n",
    "![image-20240507155528488](./images/image-20240507155528488.png)\n",
    "\n",
    "\n",
    "This notebook has the objective to compared the benefits of the flash attention versus normal attentional mechanism using pytorch implementation of [scaled dot product attention](https://pytorch.org/docs/stable/generated/torch.nn.functional.scaled_dot_product_attention.html) . \n",
    "\n",
    "This notebook is inspired by the following work:\n",
    "- https://github.com/Dao-AILab/flash-attention\n",
    "- https://github.com/thushv89/tutorials_deeplearninghero/blob/master/llms/flash_attention_torch.ipynb\n",
    "\n"
   ]
  },
  {
   "cell_type": "markdown",
   "id": "b4a7ecc2-8fca-4e70-8be1-b20dc36a0f08",
   "metadata": {},
   "source": [
    "## Pre-requisites\n",
    "\n",
    "First let´s install the required package and versions.\n",
    "This notebook was run using Amazon SageMaker Jupyter Lab,  image: SageMaker Distribution 1.7 and instance type: ml.g4dn.12xlarge.\n",
    "\n",
    "ml.g4dn.12xlarge has 4 GPUs with nvidia t4 tensor core architecture containig each 64GB GPU memory.\n",
    "Thus each GPU has a total of 16GB GPU memory."
   ]
  },
  {
   "cell_type": "code",
   "execution_count": null,
   "id": "9093a45a-2acf-479e-aba4-3c324038ec48",
   "metadata": {},
   "outputs": [],
   "source": [
    "!pip install torch==2.0.1 transformers==4.30.2 nvidia-ml-py3 sentencepiece --quiet"
   ]
  },
  {
   "cell_type": "code",
   "execution_count": 1,
   "id": "35d28066-8c4a-4580-a9f8-029ce8a43e9e",
   "metadata": {},
   "outputs": [
    {
     "name": "stdout",
     "output_type": "stream",
     "text": [
      "Torch version: 2.0.1+cu117\n"
     ]
    }
   ],
   "source": [
    "import torch\n",
    "from time import perf_counter\n",
    "import pynvml\n",
    "import pandas as pd\n",
    "\n",
    "# Earliest version that has flash attention is 1.13\n",
    "print(f\"Torch version: {torch.__version__}\")\n"
   ]
  },
  {
   "cell_type": "markdown",
   "id": "668795f5-1743-44df-8a25-a62393790332",
   "metadata": {},
   "source": [
    "## Let´s load some data"
   ]
  },
  {
   "cell_type": "code",
   "execution_count": 2,
   "id": "742c64d5-3605-48b8-9c0d-50edb4fe16c9",
   "metadata": {},
   "outputs": [
    {
     "name": "stdout",
     "output_type": "stream",
     "text": [
      "--2024-05-07 15:01:36--  https://www.gutenberg.org/files/98/98-0.txt\n",
      "Resolving www.gutenberg.org (www.gutenberg.org)... 152.19.134.47, 2610:28:3090:3000:0:bad:cafe:47\n",
      "Connecting to www.gutenberg.org (www.gutenberg.org)|152.19.134.47|:443... connected.\n",
      "HTTP request sent, awaiting response... 200 OK\n",
      "Length: 807231 (788K) [text/plain]\n",
      "Saving to: ‘98-0.txt’\n",
      "\n",
      "98-0.txt            100%[===================>] 788.31K  --.-KB/s    in 0.1s    \n",
      "\n",
      "2024-05-07 15:01:37 (7.14 MB/s) - ‘98-0.txt’ saved [807231/807231]\n",
      "\n"
     ]
    }
   ],
   "source": [
    "!wget https://www.gutenberg.org/files/98/98-0.txt; mv 98-0.txt book.txt"
   ]
  },
  {
   "cell_type": "code",
   "execution_count": 2,
   "id": "5c958fbf-3b77-4fd0-919e-201db1551256",
   "metadata": {},
   "outputs": [
    {
     "name": "stdout",
     "output_type": "stream",
     "text": [
      "This text file has 138965 words\n"
     ]
    }
   ],
   "source": [
    "# Download some text from Project Gutenberg\n",
    "# e.g. https://www.gutenberg.org/files/98/98-0.txt\n",
    "with open(\"book.txt\", \"r\", encoding=\"utf-8\") as f:\n",
    "    text = f.read()\n",
    "\n",
    "print(f\"This text file has {len(text.split())} words\")"
   ]
  },
  {
   "cell_type": "markdown",
   "id": "e2995db7-12a9-412d-822a-6d5c7b502c51",
   "metadata": {},
   "source": [
    "## Simple Transformer and hyperparameters"
   ]
  },
  {
   "cell_type": "code",
   "execution_count": 3,
   "id": "959dfc6a-7741-48bc-981d-d16f6d6f66c4",
   "metadata": {},
   "outputs": [],
   "source": [
    "n_heads = 32\n",
    "d_model = 512\n",
    "num_layers = 6\n",
    "batch_size = 32\n",
    "\n",
    "seq_length_range = [128, 256, 512, 1024]\n",
    "\n",
    "# We are going to make the format [b, t, d] by default it's [t, b, d]\n",
    "# Setting data type to float16\n",
    "encoder_layer = torch.nn.TransformerEncoderLayer(d_model=d_model, nhead=n_heads, device=\"cuda\", batch_first=True, dtype=torch.float16)\n",
    "transformer_encoder = torch.nn.TransformerEncoder(encoder_layer, num_layers=num_layers)\n"
   ]
  },
  {
   "cell_type": "markdown",
   "id": "cdbb28c0-08dc-400e-a064-2ecb07264622",
   "metadata": {},
   "source": [
    "### Util functions to get GPU utilization"
   ]
  },
  {
   "cell_type": "code",
   "execution_count": 4,
   "id": "521769d3-1859-4e4c-b0dd-6ca9157b0c77",
   "metadata": {},
   "outputs": [],
   "source": [
    "def get_gpu_utilization():\n",
    "    \"\"\" Get the GPU utilization \"\"\"\n",
    "    pynvml.nvmlInit()\n",
    "    handle = pynvml.nvmlDeviceGetHandleByIndex(0)\n",
    "    info = pynvml.nvmlDeviceGetMemoryInfo(handle)\n",
    "    return info.used//1024**2\n",
    "\n",
    "def run_single_iteration(transformer_encoder, batch_size, seq_length, d_model):\n",
    "    \"\"\" Run a single iteration through the model \"\"\"\n",
    "    input_data = torch.rand((batch_size, seq_length, d_model), device=\"cuda\", dtype=torch.float16)\n",
    "    mask = torch.nn.Transformer.generate_square_subsequent_mask(\n",
    "        seq_length, device=\"cuda\"\n",
    "    ).half()\n",
    "\n",
    "    with torch.inference_mode():\n",
    "        t1 = perf_counter()\n",
    "        out = transformer_encoder(input_data, mask=mask, is_causal=True)\n",
    "        t2 = perf_counter()\n",
    "        memory_in_gb = get_gpu_utilization()\n",
    "\n",
    "    return {\"time\": t2-t1, \"memory\": memory_in_gb}\n",
    "\n",
    "def generate_profile_dataframe(time_seq, mem_seq, x_range):\n",
    "    return pd.DataFrame({\"time\": time_seq, \"memory\": mem_seq}, index=x_range)"
   ]
  },
  {
   "cell_type": "markdown",
   "id": "555c2e39-575f-4229-8836-5c466830f29e",
   "metadata": {},
   "source": [
    "## Attention Without Flash Attention"
   ]
  },
  {
   "cell_type": "code",
   "execution_count": 6,
   "id": "ad0ef0e4-7477-41f7-87de-280545ef1fd5",
   "metadata": {},
   "outputs": [
    {
     "name": "stdout",
     "output_type": "stream",
     "text": [
      "Using Flash Attention: False\n",
      "Sequence length: 128\n",
      "\tTime taken: 0.003820729000835854s\n",
      "\tGPU memory occupied: 758 MB\n",
      "Sequence length: 256\n",
      "\tTime taken: 0.004297239000152331s\n",
      "\tGPU memory occupied: 1142 MB\n",
      "Sequence length: 512\n",
      "\tTime taken: 0.004526317000454583s\n",
      "\tGPU memory occupied: 2678 MB\n",
      "Sequence length: 1024\n",
      "\tTime taken: 0.004839346000153455s\n",
      "\tGPU memory occupied: 8822 MB\n"
     ]
    }
   ],
   "source": [
    "memory_consumption = []\n",
    "time_taken = []\n",
    "\n",
    "# Since version 1.13\n",
    "with torch.backends.cuda.sdp_kernel(\n",
    "        enable_flash=False, enable_math=True, enable_mem_efficient=True\n",
    "):\n",
    "    #warm up step\n",
    "    res = run_single_iteration(transformer_encoder, batch_size, seq_length_range[0], d_model)\n",
    "\n",
    "    print(f\"Using Flash Attention: {torch.backends.cuda.flash_sdp_enabled()}\")\n",
    "    for t in seq_length_range:\n",
    "        # Important to syncronize before each run\n",
    "        # because cuda launch kernels asynchronously\n",
    "        torch.cuda.synchronize()\n",
    "\n",
    "        res = run_single_iteration(transformer_encoder, batch_size, t, d_model)\n",
    "        time_taken.append(res[\"time\"])\n",
    "        memory_consumption.append(res[\"memory\"])\n",
    "        print(f\"Sequence length: {t}\")\n",
    "        print(f\"\\tTime taken: {res['time']}s\")\n",
    "        print(f\"\\tGPU memory occupied: {res['memory']} MB\")\n",
    "\n",
    "profile_df = generate_profile_dataframe(time_taken, memory_consumption, seq_length_range)\n",
    "profile_df.to_parquet(\"no_flash_profile.parquet\")"
   ]
  },
  {
   "cell_type": "markdown",
   "id": "bbf1b638-3bb0-4401-8262-bcc034c65e36",
   "metadata": {},
   "source": [
    "## Attention WITH Flash Attention"
   ]
  },
  {
   "cell_type": "code",
   "execution_count": 5,
   "id": "42190838-a8bf-4252-8d8c-823f56a471f8",
   "metadata": {},
   "outputs": [
    {
     "name": "stdout",
     "output_type": "stream",
     "text": [
      "Using Flash Attention: True\n",
      "Sequence length: 128\n",
      "\tTime taken: 0.0033789420003813575s\n",
      "\tGPU memory occupied: 694 MB\n",
      "Sequence length: 256\n",
      "\tTime taken: 0.004061938000631926s\n",
      "\tGPU memory occupied: 806 MB\n",
      "Sequence length: 512\n",
      "\tTime taken: 0.003873994999594288s\n",
      "\tGPU memory occupied: 1030 MB\n",
      "Sequence length: 1024\n",
      "\tTime taken: 0.003996620000179973s\n",
      "\tGPU memory occupied: 1478 MB\n"
     ]
    }
   ],
   "source": [
    "# IMPORTANT NOTES ON FLASH ATTENTION\n",
    "# * Make sure you restart the runtime - to release GPU memory\n",
    "# * FlashAttention currently supports:\n",
    "#   * Turing, Ampere, Ada, or Hopper GPUs (e.g., H100, A100, RTX 3090, T4, RTX 2080).\n",
    "#   * Supports fp16 and bf16 (bf16 requires Ampere, Ada, or Hopper GPUs).\n",
    "#   * Head dimension needs to be multiples of 8, up to 128 (e.g., 8, 16, 24, ..., 128). Head dim > 64 backward requires A100 or H100.\n",
    "flash_memory_consumption = []\n",
    "flash_time_taken = []\n",
    "\n",
    "# torch.backends.cuda.sdp_kernel() is deprecated.\n",
    "# Please see, torch.nn.attention.sdpa_kernel() for the new context manager\n",
    "# https://pytorch.org/tutorials/intermediate/scaled_dot_product_attention_tutorial.html\n",
    "#with torch.backends.cuda.sdp_kernel(\n",
    "#    enable_flash=True, enable_math=False, enable_mem_efficient=False\n",
    "#):\n",
    "#from torch.nn.attention import SDPBackend, sdpa_kernel\n",
    "#with sdpa_kernel(SDPBackend.FLASH_ATTENTION):\n",
    "with torch.backends.cuda.sdp_kernel(enable_flash=True, enable_math=False, enable_mem_efficient=False):\n",
    "\n",
    "    #warm up step\n",
    "    res = run_single_iteration(transformer_encoder, batch_size, seq_length_range[0], d_model)\n",
    "\n",
    "    print(f\"Using Flash Attention: {torch.backends.cuda.flash_sdp_enabled()}\")\n",
    "\n",
    "    for t in seq_length_range:\n",
    "        torch.cuda.synchronize()\n",
    "\n",
    "        res = run_single_iteration(transformer_encoder, batch_size, t, d_model)\n",
    "        flash_time_taken.append(res[\"time\"])\n",
    "        flash_memory_consumption.append(res[\"memory\"])\n",
    "        print(f\"Sequence length: {t}\")\n",
    "        print(f\"\\tTime taken: {res['time']}s\")\n",
    "        print(f\"\\tGPU memory occupied: {res['memory']} MB\")\n",
    "\n",
    "profile_df = generate_profile_dataframe(flash_time_taken, flash_memory_consumption, seq_length_range)\n",
    "profile_df.to_parquet(\"flash_profile.parquet\")"
   ]
  },
  {
   "cell_type": "markdown",
   "id": "fd852b54-fd3b-496b-8503-9840350c6dd9",
   "metadata": {},
   "source": [
    "## Comparing Results"
   ]
  },
  {
   "cell_type": "code",
   "execution_count": 6,
   "id": "01ed7ca6-1610-48e5-a53f-f394bff09b14",
   "metadata": {},
   "outputs": [
    {
     "data": {
      "text/html": [
       "<div>\n",
       "<style scoped>\n",
       "    .dataframe tbody tr th:only-of-type {\n",
       "        vertical-align: middle;\n",
       "    }\n",
       "\n",
       "    .dataframe tbody tr th {\n",
       "        vertical-align: top;\n",
       "    }\n",
       "\n",
       "    .dataframe thead tr th {\n",
       "        text-align: left;\n",
       "    }\n",
       "</style>\n",
       "<table border=\"1\" class=\"dataframe\">\n",
       "  <thead>\n",
       "    <tr>\n",
       "      <th></th>\n",
       "      <th>time</th>\n",
       "      <th>memory</th>\n",
       "      <th>time</th>\n",
       "      <th>memory</th>\n",
       "    </tr>\n",
       "    <tr>\n",
       "      <th></th>\n",
       "      <th>no_flash</th>\n",
       "      <th>no_flash</th>\n",
       "      <th>flash</th>\n",
       "      <th>flash</th>\n",
       "    </tr>\n",
       "  </thead>\n",
       "  <tbody>\n",
       "    <tr>\n",
       "      <th>128</th>\n",
       "      <td>0.003821</td>\n",
       "      <td>758</td>\n",
       "      <td>0.003379</td>\n",
       "      <td>694</td>\n",
       "    </tr>\n",
       "    <tr>\n",
       "      <th>256</th>\n",
       "      <td>0.004297</td>\n",
       "      <td>1142</td>\n",
       "      <td>0.004062</td>\n",
       "      <td>806</td>\n",
       "    </tr>\n",
       "    <tr>\n",
       "      <th>512</th>\n",
       "      <td>0.004526</td>\n",
       "      <td>2678</td>\n",
       "      <td>0.003874</td>\n",
       "      <td>1030</td>\n",
       "    </tr>\n",
       "    <tr>\n",
       "      <th>1024</th>\n",
       "      <td>0.004839</td>\n",
       "      <td>8822</td>\n",
       "      <td>0.003997</td>\n",
       "      <td>1478</td>\n",
       "    </tr>\n",
       "  </tbody>\n",
       "</table>\n",
       "</div>"
      ],
      "text/plain": [
       "          time   memory      time memory\n",
       "      no_flash no_flash     flash  flash\n",
       "128   0.003821      758  0.003379    694\n",
       "256   0.004297     1142  0.004062    806\n",
       "512   0.004526     2678  0.003874   1030\n",
       "1024  0.004839     8822  0.003997   1478"
      ]
     },
     "execution_count": 6,
     "metadata": {},
     "output_type": "execute_result"
    }
   ],
   "source": [
    "df_1 = pd.read_parquet(\"no_flash_profile.parquet\")\n",
    "df_1.columns = pd.MultiIndex.from_tuples([(c, \"no_flash\") for c in df_1.columns])\n",
    "df_2 = pd.read_parquet(\"flash_profile.parquet\")\n",
    "df_2.columns = pd.MultiIndex.from_tuples([(c, \"flash\") for c in df_2.columns])\n",
    "df = pd.concat([df_1, df_2], axis=1)\n",
    "df.head()"
   ]
  },
  {
   "cell_type": "code",
   "execution_count": 7,
   "id": "efe63afb-0b37-4069-89d4-f4d4b8cad0b3",
   "metadata": {},
   "outputs": [
    {
     "data": {
      "text/plain": [
       "<Axes: xlabel='Time Steps', ylabel='Time (s)'>"
      ]
     },
     "execution_count": 7,
     "metadata": {},
     "output_type": "execute_result"
    },
    {
     "data": {
      "image/png": "[encoded data removed]",
      "text/plain": [
       "<Figure size 640x480 with 1 Axes>"
      ]
     },
     "metadata": {},
     "output_type": "display_data"
    }
   ],
   "source": [
    "# T4 SRAM is smaller than newer GPUs, so less speedup gains\n",
    "df[\"time\"].plot.bar(xlabel=\"Time Steps\", ylabel=\"Time (s)\")"
   ]
  },
  {
   "cell_type": "code",
   "execution_count": 8,
   "id": "af5de8d5-f055-4edc-abef-07be5c905eac",
   "metadata": {},
   "outputs": [
    {
     "data": {
      "text/plain": [
       "<Axes: xlabel='Time Steps', ylabel='Memory (GB)'>"
      ]
     },
     "execution_count": 8,
     "metadata": {},
     "output_type": "execute_result"
    },
    {
     "data": {
      "image/png": "[encoded data removed]",
      "text/plain": [
       "<Figure size 640x480 with 1 Axes>"
      ]
     },
     "metadata": {},
     "output_type": "display_data"
    }
   ],
   "source": [
    "# Extrapolation gives you can fit 12.5K long sequence with batch size of 32 \n",
    "# or a 400K long sequence with a batch size of 1 on this GPU\n",
    "# But in practice, you're limited to a certain extent on the length of the \n",
    "# sequences that you can fit during training. This is a lot shorter as there's\n",
    "# more computations (e.g. backward pass) during training and you need a larger\n",
    "# batch size.\n",
    "df[\"memory\"].plot.bar(xlabel=\"Time Steps\", ylabel=\"Memory (GB)\")"
   ]
  },
  {
   "cell_type": "code",
   "execution_count": null,
   "id": "06a0c670-e051-492a-be78-0153438454b1",
   "metadata": {},
   "outputs": [],
   "source": []
  }
 ],
 "metadata": {
  "kernelspec": {
   "display_name": "Python 3 (ipykernel)",
   "language": "python",
   "name": "python3"
  },
  "language_info": {
   "codemirror_mode": {
    "name": "ipython",
    "version": 3
   },
   "file_extension": ".py",
   "mimetype": "text/x-python",
   "name": "python",
   "nbconvert_exporter": "python",
   "pygments_lexer": "ipython3",
   "version": "3.10.14"
  }
 },
 "nbformat": 4,
 "nbformat_minor": 5
}
