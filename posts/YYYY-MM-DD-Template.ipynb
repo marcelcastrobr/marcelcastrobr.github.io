{
 "cells": [
  {
   "cell_type": "markdown",
   "id": "3ed92a7e-adf6-4fb3-98c7-171d52178bd5",
   "metadata": {},
   "source": [
    "---\n",
    "aliases:\n",
    "- /jupyter/Dimensionality/PCA/2020/01/01/PCA\n",
    "badges: true\n",
    "categories:\n",
    "- jupyter\n",
    "- Dimensionality\n",
    "- PCA\n",
    "- template\n",
    "date: '2020-01-01'\n",
    "description: This is a template description.\n",
    "output-file: 2020-01-01-template.html\n",
    "title: My Title for Template\n",
    "toc: true\n",
    "---"
   ]
  },
  {
   "cell_type": "markdown",
   "id": "dea2e63b-a77d-4aa3-9c9a-a71c99bf57c8",
   "metadata": {},
   "source": [
    "# My Title\n"
   ]
  },
  {
   "cell_type": "markdown",
   "id": "b4a7ecc2-8fca-4e70-8be1-b20dc36a0f08",
   "metadata": {},
   "source": [
    "## Pre-requisites\n",
    "\n"
   ]
  },
  {
   "cell_type": "markdown",
   "id": "668795f5-1743-44df-8a25-a62393790332",
   "metadata": {},
   "source": [
    "## Topic"
   ]
  },
  {
   "cell_type": "markdown",
   "id": "fd852b54-fd3b-496b-8503-9840350c6dd9",
   "metadata": {},
   "source": [
    "## Conclusion / Remarks"
   ]
  },
  {
   "cell_type": "code",
   "execution_count": null,
   "id": "06a0c670-e051-492a-be78-0153438454b1",
   "metadata": {},
   "outputs": [],
   "source": []
  }
 ],
 "metadata": {
  "kernelspec": {
   "display_name": "Python 3 (ipykernel)",
   "language": "python",
   "name": "python3"
  },
  "language_info": {
   "codemirror_mode": {
    "name": "ipython",
    "version": 3
   },
   "file_extension": ".py",
   "mimetype": "text/x-python",
   "name": "python",
   "nbconvert_exporter": "python",
   "pygments_lexer": "ipython3",
   "version": "3.10.14"
  }
 },
 "nbformat": 4,
 "nbformat_minor": 5
}
